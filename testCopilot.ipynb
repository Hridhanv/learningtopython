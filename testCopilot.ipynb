{
 "cells": [
  {
   "cell_type": "code",
   "execution_count": null,
   "metadata": {},
   "outputs": [],
   "source": [
    "# write code to load the iris dataset from the sklearn library and view it as a pandas dataframe\n",
    "# import the libraries\n",
    "from sklearn.datasets import load_iris\n",
    "import pandas as pd\n",
    "import numpy as np\n",
    "\n",
    "# load the dataset\n",
    "iris = load_iris()\n",
    "\n",
    "# create a dataframe with the four feature variables\n",
    "df = pd.DataFrame(iris.data, columns=iris.feature_names)\n",
    "\n",
    "# Add the response variable of species\n",
    "df['species'] = pd.Categorical.from_codes(iris.target, iris.target_names)\n",
    "\n",
    "# Ensure that the species column is categorical\n",
    "df['species'] = pd.Categorical(df['species'])\n",
    "\n",
    "# view the top 5 rows\n",
    "df.head()\n",
    "\n",
    "# view the top 5 rows\n",
    "df.head()"
   ]
  },
  {
   "cell_type": "code",
   "execution_count": null,
   "metadata": {},
   "outputs": [],
   "source": [
    "df.info()"
   ]
  },
  {
   "cell_type": "code",
   "execution_count": null,
   "metadata": {},
   "outputs": [],
   "source": [
    "# rename the first 4 columns as ['sepal_length', 'sepal_width', 'petal_length', 'petal_width']\n",
    "# rename the last column as 'species'\n",
    "\n",
    "df.columns = ['sepal_length', 'sepal_width', 'petal_length', 'petal_width', 'species']\n"
   ]
  },
  {
   "cell_type": "code",
   "execution_count": null,
   "metadata": {},
   "outputs": [],
   "source": [
    "#  Produce some exploratory plots for species-wise analysis of the numerical fields\n",
    "\n",
    "# Create a boxplot of the numerical fields for each species\n",
    "\n",
    "import matplotlib.pyplot as plt\n",
    "import pandas as pd\n",
    "\n",
    "df.boxplot(column=['sepal_length', 'sepal_width', 'petal_length', 'petal_width'], by='species', figsize=(12, 8))\n",
    "plt.show()"
   ]
  }
 ],
 "metadata": {
  "language_info": {
   "name": "python"
  },
  "orig_nbformat": 4
 },
 "nbformat": 4,
 "nbformat_minor": 2
}
